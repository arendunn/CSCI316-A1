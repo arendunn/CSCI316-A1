{
 "cells": [
  {
   "cell_type": "code",
   "execution_count": null,
   "id": "17823f2a",
   "metadata": {},
   "outputs": [
    {
     "ename": "",
     "evalue": "",
     "output_type": "error",
     "traceback": [
      "\u001b[1;31mRunning cells with 'Python 3.11.9' requires the ipykernel package.\n",
      "\u001b[1;31m<a href='command:jupyter.createPythonEnvAndSelectController'>Create a Python Environment</a> with the required packages.\n",
      "\u001b[1;31mOr install 'ipykernel' using the command: 'c:/Users/azzad/AppData/Local/Microsoft/WindowsApps/python3.11.exe -m pip install ipykernel -U --user --force-reinstall'"
     ]
    }
   ],
   "source": [
    "import csv\n",
    "from sklearn.preprocessing import LabelEncoder\n",
    "from sklearn.model_selection import train_test_split\n",
    "\n",
    "# Load data\n",
    "def load_nursery_data(filepath='nursery.data'):\n",
    "    X, y = [], []\n",
    "    with open(filepath, 'r') as file:\n",
    "        reader = csv.reader(file)\n",
    "        for row in reader:\n",
    "            if row:  # skip empty rows\n",
    "                X.append(row[:-1])  # All except last column\n",
    "                y.append(row[-1])   # Last column is the label\n",
    "    return X, y\n",
    "\n",
    "# Encode categorical variables to integers\n",
    "def encode_data(X, y):\n",
    "    encoders = [LabelEncoder() for _ in range(len(X[0]))]\n",
    "    for col in range(len(X[0])):\n",
    "        column_values = [row[col] for row in X]\n",
    "        encoded_col = encoders[col].fit_transform(column_values)\n",
    "        for i, value in enumerate(encoded_col):\n",
    "            X[i][col] = value\n",
    "    label_encoder = LabelEncoder()\n",
    "    y = label_encoder.fit_transform(y)\n",
    "    return X, y, encoders, label_encoder\n",
    "\n",
    "# Load and encode\n",
    "X_raw, y_raw = load_nursery_data()\n",
    "X, y, encoders, label_encoder = encode_data(X_raw, y_raw)\n",
    "\n",
    "# Split into train/test\n",
    "X_train, X_test, y_train, y_test = train_test_split(X, y, train_size=0.65, random_state=42)"
   ]
  }
 ],
 "metadata": {
  "kernelspec": {
   "display_name": "Python 3",
   "language": "python",
   "name": "python3"
  },
  "language_info": {
   "name": "python",
   "version": "3.11.9"
  }
 },
 "nbformat": 4,
 "nbformat_minor": 5
}
